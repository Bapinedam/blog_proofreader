{
 "cells": [
  {
   "cell_type": "code",
   "execution_count": 1,
   "metadata": {},
   "outputs": [],
   "source": [
    "# Libraries\n",
    "\n",
    "import openai\n",
    "from dotenv import load_dotenv\n",
    "import os\n",
    "from flask import Flask, render_template, request\n",
    "import json"
   ]
  },
  {
   "cell_type": "code",
   "execution_count": 2,
   "metadata": {},
   "outputs": [],
   "source": [
    "PROMPT = \"\"\"\n",
    "        You will receive the draft content of a blog as text. Your task is to generate a proofread version of the file.\n",
    "\n",
    "        As output, you are required to provide the following:\n",
    "\n",
    "        1. Orthography Revision: Identify errors and provide their corrections.\n",
    "        2. Grammatical Revision: Highlight areas where the text can be improved grammatically and offer better replacements to enhance it.\n",
    "        3. Structural Revision: Propose an improved paragraph-by-paragraph structure, offering a clearer way to convey the main idea.\n",
    "        4. Conceptual Revision: Conduct a critical analysis of the entire blog. What are its weaknesses? What ideas can be debated or further explored? Are there debates already covered elsewhere?\n",
    "        5. Debate Revision: Which sections require deeper exploration? What ideas can be expanded upon?\n",
    "        6. Suggest Three Title Ideas.\n",
    "        7. Generate a List of Five Relevant SEO Keywords for the Topic.\n",
    "        8. Suggest Three Blogs related to the main points discussed in this blog.\n",
    "        \n",
    "        Your response should be provided in the following format:\n",
    "        \n",
    "        {\n",
    "            \"General review\": {\n",
    "                \"Orthography Revision\": [each word missapelled: correction],\n",
    "                \"Grammatical Revision\": [each sentence that can improve: the improved version],\n",
    "                \"Structural Revision\": \"content of structural revision proposing an improved paragraph-by-paragraph structure\",\n",
    "                \"Conceptual Revision\": \"content of conceptual revision conducting a critical analysis of the entire blog. What are its weaknesses? What ideas can be debated or further explored? Are there debates already covered elsewhere?\",\n",
    "                \"Debate Revision\": \"content of debate revision Which sections require deeper exploration? what ideas can be expanded upon?\"\n",
    "            },\n",
    "            \"Titles\": {\n",
    "                \"title 1\": \"first suggested effective title\",\n",
    "                \"title 2\": \"second suggested descriptive title\",\n",
    "                \"title 3\": \"third suggested funny title\"\n",
    "            },\n",
    "            \"SEO\": [\"keyword1\", \"keyword2\", \"keyword3\", \"keyword4\", \"keyword5\"],\n",
    "            \"Blogs regarded\": {\n",
    "                \"Blog 1\": \"Topic of the blog and why it's important\",\n",
    "                \"Blog 2\": \"Topic of the blog and why it's important\",\n",
    "                \"Blog 3\": \"Topic of the blog and why it's important\"\n",
    "            }\n",
    "        }\n",
    "        \n",
    "        \"\"\""
   ]
  },
  {
   "cell_type": "code",
   "execution_count": 3,
   "metadata": {},
   "outputs": [],
   "source": [
    "blog = \"\"\"\"\n",
    "\n",
    "        Scientific realism is an epistemological philosophical movement that asserts the world is independent of our perceptions and is knowable through science and observation. It is also possible to describe it through mathematical and scientific laws. In this sense, the universe objectively exists, and we can access it through scientific, mathematical, and logical inquiry.\n",
    "\n",
    "        Belief in a knowable and mathematically modelable world inevitably leads to the idea that it's possible to find an equation describing any phenomenon, no matter how complex, including the mind.\n",
    "\n",
    "        Artificial Neural Networks (ANN), on the other hand, possess the theoretical capacity to approximate any mathematical function, known as the Universal Approximation Theorem. This implies that a set of networks with enough neurons, layers, and nodes can approximate any mathematical function, however complex it might be.\n",
    "\n",
    "        Consequently, given that the mind is a physical system and not purely ideal or epiphenomenal, it is knowable, and, in theory, its functioning can be represented through mathematical equations. Neural networks, with their approximation capacity, are plausible tools for modeling these equations. It's a matter of time, possibly years, decades, or centuries, but deciphering the function underlying our mind could be achievable.\n",
    "\n",
    "        Attaining a mathematical understanding of the mind opens the possibility of configuring a computational system that replicates its functioning. With a model possessing these characteristics, we could describe, experiment, and predict.\n",
    "\n",
    "        This deterministic assumption, though simplistic, faces certain criticisms. One of them is akin to the challenges encountered by the Laplacian demon, suggesting that the complexity of the system would make the collection and calculation of all relevant data impossible. However, there are models that, despite their simplicity, describe the study phenomenon almost perfectly without necessarily delving into all variables. Even if necessary, the complexity argument loses strength as we have more capable algorithms and processing.\n",
    "\n",
    "        Another comparable criticism is what I like to call the \"soy milk dilemma.\" An argument I used in a philosophy class at university to illustrate a point. The argument posits that, even though we call the drink we already know \"soy milk,\" it's not actually milk. And it's not milk due to its inherent nature. Here, counterparts or vegetarians might counterargue that if all properties change to the point of being a perfect copy, it is now milk. Regardless of its properties, taste, or color, it simply is not milk. The only way to get cow's milk is by extracting it from a cow.\n",
    "\n",
    "        Similarly to the mind, the problem quickly shifts to the question, \"So, what is milk?\" However, the question only seeks to divert the issue because we're not looking to recreate the human mind but to model it. Even if we achieve a model that behaves like the human mind, it might be a simulation rather than an authentic reproduction. Advocates of this position also face Borges' dilemma of Scientific Rigor, suggesting that an exact representation can lose its practical utility by becoming as extensive as reality itself.\n",
    "\n",
    "        As scientists, we often believe that the world is knowable and mathematically modelable. This perspective poses challenges when considering the possibility of modeling the mind through artificial intelligence. From my point of view, it's plausible to achieve a highly accurate and simulated model, referred to as 'artificial mind,' even before fully understanding how our brain generates what we call 'the mind.'\n",
    "\n",
    "\n",
    "        \"\"\""
   ]
  },
  {
   "cell_type": "code",
   "execution_count": 4,
   "metadata": {},
   "outputs": [],
   "source": [
    "load_dotenv()\n",
    "openai.api_key = os.getenv(\"OPENAI_API_KEY\")\n",
    "messages = [\n",
    "    {\"role\":\"system\", \"content\":PROMPT}, \n",
    "    {\"role\": \"user\", \"content\": f\"Please read and improve this blog: {blog}\"}\n",
    "]\n",
    "\n",
    "response = openai.chat.completions.create(\n",
    "    model=\"gpt-3.5-turbo\",\n",
    "    messages=messages,\n",
    "    \n",
    ")"
   ]
  },
  {
   "cell_type": "code",
   "execution_count": 8,
   "metadata": {},
   "outputs": [
    {
     "name": "stdout",
     "output_type": "stream",
     "text": [
      "{\n",
      "    \"General review\": {\n",
      "        \"Orthography Revision\": {\n",
      "            \"Borges'\": \"Borges's\"\n",
      "        },\n",
      "        \"Grammatical Revision\": {\n",
      "            \n",
      "        },\n",
      "        \"Structural Revision\": \"The blog can be restructured as follows:\\n\\n1. Introduction\\n2. Scientific Realism\\n3. Artificial Neural Networks\\n4. The Mathematical Understanding of the Mind\\n5. Criticisms and Challenges\\n6. Conclusion\",\n",
      "        \"Conceptual Revision\": \"The main weaknesses of the blog are:\\n1. Lack of clarity in defining terms: The blog could benefit from providing clear definitions of scientific realism, artificial neural networks, and the mind.\\n2. Lack of scientific evidence: The blog relies heavily on theoretical assumptions and philosophical arguments without providing evidence from scientific research.\\n3. Insufficient exploration of alternative viewpoints: The blog only presents one perspective without considering different theories or debates on the topic.\\n\\nIdeas that can be further explored or debated include:\\n1. The role of consciousness in the mind: Does the proposed mathematical modeling approach consider subjective experiences?\\n2. Ethical implications of artificial minds: What are the ethical considerations of creating simulated models of the human mind?\\n3. Limits of mathematical modeling: Are there aspects of the mind that cannot be accurately represented through mathematical equations?\",\n",
      "        \"Debate Revision\": \"Deeper exploration is needed in the following areas:\\n1. The ethical implications of creating artificial minds\\n2. The limitations of mathematical modeling for understanding the mind\\n3. The role of consciousness in the mind\"\n",
      "    },\n",
      "    \"Titles\": {\n",
      "        \"Title 1\": \"Scientific Realism: Exploring the Knowable World through Science and Observation\",\n",
      "        \"Title 2\": \"Artificial Neural Networks: Towards Mathematical Approximations of the Mind\",\n",
      "        \"Title 3\": \"Modeling the Mind: Can Artificial Intelligence Unlock its Secrets?\"\n",
      "    },\n",
      "    \"SEO\": [\"scientific realism\", \"artificial neural networks\", \"modeling the mind\", \"mathematical understanding of the mind\", \"limitations of mathematical modeling\"],\n",
      "    \"Blogs regarded\": {\n",
      "        \"Blog 1\": \"Understanding Scientific Realism: Its Implications and Criticisms\",\n",
      "        \"Blog 2\": \"Exploring the Potential of Artificial Neural Networks for Modeling the Mind\",\n",
      "        \"Blog 3\": \"The Philosophy of Mind and the Challenges of Mathematical Representation\"\n",
      "    }\n",
      "}\n"
     ]
    }
   ],
   "source": [
    "print(response.choices[0].message.content)"
   ]
  },
  {
   "cell_type": "code",
   "execution_count": 9,
   "metadata": {},
   "outputs": [
    {
     "data": {
      "text/plain": [
       "{'General review': {'Orthography Revision': {\"Borges'\": \"Borges's\"},\n",
       "  'Grammatical Revision': {},\n",
       "  'Structural Revision': 'The blog can be restructured as follows:\\n\\n1. Introduction\\n2. Scientific Realism\\n3. Artificial Neural Networks\\n4. The Mathematical Understanding of the Mind\\n5. Criticisms and Challenges\\n6. Conclusion',\n",
       "  'Conceptual Revision': 'The main weaknesses of the blog are:\\n1. Lack of clarity in defining terms: The blog could benefit from providing clear definitions of scientific realism, artificial neural networks, and the mind.\\n2. Lack of scientific evidence: The blog relies heavily on theoretical assumptions and philosophical arguments without providing evidence from scientific research.\\n3. Insufficient exploration of alternative viewpoints: The blog only presents one perspective without considering different theories or debates on the topic.\\n\\nIdeas that can be further explored or debated include:\\n1. The role of consciousness in the mind: Does the proposed mathematical modeling approach consider subjective experiences?\\n2. Ethical implications of artificial minds: What are the ethical considerations of creating simulated models of the human mind?\\n3. Limits of mathematical modeling: Are there aspects of the mind that cannot be accurately represented through mathematical equations?',\n",
       "  'Debate Revision': 'Deeper exploration is needed in the following areas:\\n1. The ethical implications of creating artificial minds\\n2. The limitations of mathematical modeling for understanding the mind\\n3. The role of consciousness in the mind'},\n",
       " 'Titles': {'Title 1': 'Scientific Realism: Exploring the Knowable World through Science and Observation',\n",
       "  'Title 2': 'Artificial Neural Networks: Towards Mathematical Approximations of the Mind',\n",
       "  'Title 3': 'Modeling the Mind: Can Artificial Intelligence Unlock its Secrets?'},\n",
       " 'SEO': ['scientific realism',\n",
       "  'artificial neural networks',\n",
       "  'modeling the mind',\n",
       "  'mathematical understanding of the mind',\n",
       "  'limitations of mathematical modeling'],\n",
       " 'Blogs regarded': {'Blog 1': 'Understanding Scientific Realism: Its Implications and Criticisms',\n",
       "  'Blog 2': 'Exploring the Potential of Artificial Neural Networks for Modeling the Mind',\n",
       "  'Blog 3': 'The Philosophy of Mind and the Challenges of Mathematical Representation'}}"
      ]
     },
     "execution_count": 9,
     "metadata": {},
     "output_type": "execute_result"
    }
   ],
   "source": [
    "json.loads(response.choices[0].message.content)"
   ]
  },
  {
   "cell_type": "code",
   "execution_count": null,
   "metadata": {},
   "outputs": [],
   "source": []
  }
 ],
 "metadata": {
  "kernelspec": {
   "display_name": "blog_proofreader",
   "language": "python",
   "name": "python3"
  },
  "language_info": {
   "codemirror_mode": {
    "name": "ipython",
    "version": 3
   },
   "file_extension": ".py",
   "mimetype": "text/x-python",
   "name": "python",
   "nbconvert_exporter": "python",
   "pygments_lexer": "ipython3",
   "version": "3.10.13"
  }
 },
 "nbformat": 4,
 "nbformat_minor": 2
}
